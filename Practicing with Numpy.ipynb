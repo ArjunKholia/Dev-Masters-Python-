{
 "cells": [
  {
   "cell_type": "markdown",
   "metadata": {},
   "source": [
    "#### 1. Import the numpy package under the name `np`"
   ]
  },
  {
   "cell_type": "code",
   "execution_count": 2,
   "metadata": {
    "collapsed": true
   },
   "outputs": [],
   "source": [
    "import numpy as np"
   ]
  },
  {
   "cell_type": "markdown",
   "metadata": {},
   "source": [
    "#### 2. Create a null array of size 10"
   ]
  },
  {
   "cell_type": "code",
   "execution_count": 3,
   "metadata": {
    "collapsed": false
   },
   "outputs": [
    {
     "data": {
      "text/plain": [
       "array([ 0.,  0.,  0.,  0.,  0.,  0.,  0.,  0.,  0.,  0.])"
      ]
     },
     "execution_count": 3,
     "metadata": {},
     "output_type": "execute_result"
    }
   ],
   "source": [
    "np.zeros(10)"
   ]
  },
  {
   "cell_type": "markdown",
   "metadata": {},
   "source": [
    "#### 3.  Create a null array of size 10 but make the fifth value 1"
   ]
  },
  {
   "cell_type": "code",
   "execution_count": 4,
   "metadata": {
    "collapsed": false
   },
   "outputs": [
    {
     "data": {
      "text/plain": [
       "array([ 0.,  0.,  0.,  0.,  1.,  0.,  0.,  0.,  0.,  0.])"
      ]
     },
     "execution_count": 4,
     "metadata": {},
     "output_type": "execute_result"
    }
   ],
   "source": [
    "a = np.zeros(10)\n",
    "a[4] = 1\n",
    "a"
   ]
  },
  {
   "cell_type": "markdown",
   "metadata": {},
   "source": [
    "#### 4.  Create an array with values ranging from 10 to 49"
   ]
  },
  {
   "cell_type": "code",
   "execution_count": 5,
   "metadata": {
    "collapsed": false
   },
   "outputs": [
    {
     "data": {
      "text/plain": [
       "array([10, 11, 12, 13, 14, 15, 16, 17, 18, 19, 20, 21, 22, 23, 24, 25, 26,\n",
       "       27, 28, 29, 30, 31, 32, 33, 34, 35, 36, 37, 38, 39, 40, 41, 42, 43,\n",
       "       44, 45, 46, 47, 48])"
      ]
     },
     "execution_count": 5,
     "metadata": {},
     "output_type": "execute_result"
    }
   ],
   "source": [
    "np.arange(10,49)"
   ]
  },
  {
   "cell_type": "markdown",
   "metadata": {},
   "source": [
    "#### 5.  Reverse an array (first element becomes last)"
   ]
  },
  {
   "cell_type": "code",
   "execution_count": 6,
   "metadata": {
    "collapsed": false
   },
   "outputs": [
    {
     "data": {
      "text/plain": [
       "array([19, 18, 17, 16, 15, 14, 13, 12, 11, 10,  9,  8,  7,  6,  5,  4,  3,\n",
       "        2,  1])"
      ]
     },
     "execution_count": 6,
     "metadata": {},
     "output_type": "execute_result"
    }
   ],
   "source": [
    "a = np.arange(1,20)\n",
    "r = a[::-1]\n",
    "r"
   ]
  },
  {
   "cell_type": "markdown",
   "metadata": {},
   "source": [
    "#### 6.  Create a 3x3 matrix with values ranging from 0 to 8"
   ]
  },
  {
   "cell_type": "code",
   "execution_count": 7,
   "metadata": {
    "collapsed": false
   },
   "outputs": [
    {
     "data": {
      "text/plain": [
       "array([[0, 1, 2],\n",
       "       [3, 4, 5],\n",
       "       [6, 7, 8]])"
      ]
     },
     "execution_count": 7,
     "metadata": {},
     "output_type": "execute_result"
    }
   ],
   "source": [
    "np.arange(9).reshape(3,3)"
   ]
  },
  {
   "cell_type": "markdown",
   "metadata": {},
   "source": [
    "#### 7. Find the indices of non-zero elements from \\[2,5,0,0,4,0\\]"
   ]
  },
  {
   "cell_type": "code",
   "execution_count": 39,
   "metadata": {
    "collapsed": false
   },
   "outputs": [
    {
     "name": "stdout",
     "output_type": "stream",
     "text": [
      "(array([0, 1, 4], dtype=int64),)\n"
     ]
    }
   ],
   "source": [
    "#[a for a in [2,5,0,0,4,0] if a !=0]\n",
    "x = np.nonzero([1,2,0,0,4,0])\n",
    "print(x)"
   ]
  },
  {
   "cell_type": "markdown",
   "metadata": {},
   "source": [
    "#### 8. Create a 3x3x3 array with random values "
   ]
  },
  {
   "cell_type": "code",
   "execution_count": 42,
   "metadata": {
    "collapsed": false
   },
   "outputs": [
    {
     "data": {
      "text/plain": [
       "array([[[ 0.89355066,  0.14783143,  0.84851342],\n",
       "        [ 0.74622234,  0.75383127,  0.7265176 ],\n",
       "        [ 0.27029156,  0.32551768,  0.87331887]],\n",
       "\n",
       "       [[ 0.62336715,  0.43416323,  0.57928299],\n",
       "        [ 0.83321366,  0.75349576,  0.6384322 ],\n",
       "        [ 0.45651387,  0.97208793,  0.31394897]],\n",
       "\n",
       "       [[ 0.72139897,  0.88926897,  0.36001394],\n",
       "        [ 0.18641532,  0.17237133,  0.93516207],\n",
       "        [ 0.85446944,  0.81900112,  0.79514767]]])"
      ]
     },
     "execution_count": 42,
     "metadata": {},
     "output_type": "execute_result"
    }
   ],
   "source": [
    "np.random.rand(3,3,3)"
   ]
  },
  {
   "cell_type": "markdown",
   "metadata": {},
   "source": [
    "#### 9. Create a 10x10 array with random values and find the minimum and maximum values"
   ]
  },
  {
   "cell_type": "code",
   "execution_count": 17,
   "metadata": {
    "collapsed": false
   },
   "outputs": [
    {
     "name": "stdout",
     "output_type": "stream",
     "text": [
      "[[ 0.65373951  0.57082487  0.07969373  0.82715512  0.34192144  0.10173329\n",
      "   0.86568778  0.96140844  0.2087084   0.32976839]\n",
      " [ 0.85641424  0.48532376  0.73244679  0.87622208  0.58526523  0.34717574\n",
      "   0.87056698  0.27225762  0.37878867  0.97463398]\n",
      " [ 0.73981538  0.37486949  0.17306471  0.5966581   0.66640197  0.71209834\n",
      "   0.23431978  0.2208978   0.70526103  0.29527871]\n",
      " [ 0.79454137  0.90468542  0.46121836  0.71949222  0.63936674  0.24766736\n",
      "   0.38905814  0.11235172  0.68950732  0.30841178]\n",
      " [ 0.83188583  0.50040068  0.65602997  0.78191929  0.1626371   0.26776566\n",
      "   0.93789791  0.3599371   0.32227346  0.73638167]\n",
      " [ 0.60847656  0.90403176  0.89961806  0.34374158  0.63181581  0.0224218\n",
      "   0.63714534  0.81194854  0.61142783  0.13557989]\n",
      " [ 0.64574038  0.67575721  0.07016341  0.85156352  0.44134349  0.24952589\n",
      "   0.14531384  0.31054413  0.37243933  0.29005429]\n",
      " [ 0.42194876  0.45499542  0.89753122  0.86319947  0.83398242  0.33479304\n",
      "   0.72095101  0.03800714  0.00759397  0.98161459]\n",
      " [ 0.95852167  0.38068175  0.07092249  0.35166683  0.95712323  0.44962708\n",
      "   0.74364806  0.97884477  0.90752811  0.51334433]\n",
      " [ 0.45657211  0.72638515  0.53350922  0.82805174  0.08875084  0.90099756\n",
      "   0.76980301  0.8203893   0.29852257  0.58526752]]\n",
      "0.981614594901\n",
      "0.00759397375895\n"
     ]
    }
   ],
   "source": [
    "a = np.random.rand(10,10)\n",
    "maximum = np.amax(a)\n",
    "minimum = np.min(a)\n",
    "print(a)\n",
    "print(maximum)\n",
    "print(minimum)"
   ]
  },
  {
   "cell_type": "markdown",
   "metadata": {},
   "source": [
    "#### 10. Create a random array of size 25 and find the mean value"
   ]
  },
  {
   "cell_type": "code",
   "execution_count": 19,
   "metadata": {
    "collapsed": false
   },
   "outputs": [
    {
     "name": "stdout",
     "output_type": "stream",
     "text": [
      "[[ 0.79960746  0.62420855  0.31103195  0.62525226  0.94914346]\n",
      " [ 0.41474569  0.74617568  0.06853995  0.61034417  0.85513025]\n",
      " [ 0.9003578   0.50016193  0.48954177  0.16265023  0.881192  ]\n",
      " [ 0.97893019  0.85004232  0.62246073  0.36540797  0.83746685]\n",
      " [ 0.54406314  0.24648162  0.67588484  0.93545869  0.43574828]]\n"
     ]
    },
    {
     "data": {
      "text/plain": [
       "0.61720111091888474"
      ]
     },
     "execution_count": 19,
     "metadata": {},
     "output_type": "execute_result"
    }
   ],
   "source": [
    "a = np.random.rand(5,5)\n",
    "print(a)\n",
    "np.mean(a)"
   ]
  },
  {
   "cell_type": "markdown",
   "metadata": {},
   "source": [
    "#### 11. Create a 2d array with 1s on the borders and 0s inside"
   ]
  },
  {
   "cell_type": "code",
   "execution_count": 21,
   "metadata": {
    "collapsed": false
   },
   "outputs": [
    {
     "name": "stdout",
     "output_type": "stream",
     "text": [
      "[[ 1.  1.  1.  1.  1.]\n",
      " [ 1.  1.  1.  1.  1.]\n",
      " [ 1.  1.  1.  1.  1.]\n",
      " [ 1.  1.  1.  1.  1.]\n",
      " [ 1.  1.  1.  1.  1.]]\n",
      "[[ 1.  1.  1.  1.  1.]\n",
      " [ 1.  0.  0.  0.  1.]\n",
      " [ 1.  0.  0.  0.  1.]\n",
      " [ 1.  0.  0.  0.  1.]\n",
      " [ 1.  1.  1.  1.  1.]]\n"
     ]
    }
   ],
   "source": [
    "a = np.ones((5,5))\n",
    "print(a)\n",
    "a[1:-1,1:-1] = 0\n",
    "print(a)"
   ]
  },
  {
   "cell_type": "markdown",
   "metadata": {},
   "source": [
    "#### 12. Normalize a 5x5 random matrix"
   ]
  },
  {
   "cell_type": "code",
   "execution_count": 43,
   "metadata": {
    "collapsed": false
   },
   "outputs": [
    {
     "name": "stdout",
     "output_type": "stream",
     "text": [
      "[[ 0.5026183   0.90964917  0.28603288  0.44031201  0.64277138]\n",
      " [ 0.48003606  0.27470061  0.          0.5619654   0.85106612]\n",
      " [ 0.49767288  0.57380359  0.54470543  0.4073559   0.99848058]\n",
      " [ 0.41803702  0.99786215  0.40564556  0.20015213  0.46741347]\n",
      " [ 0.95691765  0.88526273  0.15593893  0.50813939  1.        ]]\n"
     ]
    }
   ],
   "source": [
    "#I have a few doubts in this questions,Broadcasting\n",
    "\"\"\"a = np.arange(0,100,4).reshape(5,5)\n",
    "row_sums = a.sum(axis = 1)\n",
    "new_matrix = np.zeros((5,5))\n",
    "zipped = zip(a, row_sums)\n",
    "print(list(zipped))\n",
    "for i, (row, row_sum) in enumerate(zip(a, row_sums)):\n",
    "    new_matrix[i,:] = row / row_sum\n",
    "new_matrix\"\"\"\n",
    "\n",
    "\"\"\"a = np.arange(0,100,4).reshape(5,5)\n",
    "row_sums = a.sum(axis=1)\n",
    "new_matrix = a / row_sums[:, np.newaxis]\n",
    "new_matrix\"\"\"\n",
    "\n",
    "Z = np.random.random((5,5))\n",
    "Zmax, Zmin = Z.max(), Z.min()\n",
    "Z = (Z - Zmin)/(Zmax - Zmin)\n",
    "print(Z)"
   ]
  },
  {
   "cell_type": "markdown",
   "metadata": {},
   "source": [
    "#### 13. Create a 5x5 matrix with row values ranging from 5 to 9"
   ]
  },
  {
   "cell_type": "code",
   "execution_count": 49,
   "metadata": {
    "collapsed": false
   },
   "outputs": [
    {
     "name": "stdout",
     "output_type": "stream",
     "text": [
      "[[ 5.  6.  7.  8.  9.]\n",
      " [ 5.  6.  7.  8.  9.]\n",
      " [ 5.  6.  7.  8.  9.]\n",
      " [ 5.  6.  7.  8.  9.]\n",
      " [ 5.  6.  7.  8.  9.]]\n"
     ]
    }
   ],
   "source": [
    "x = np.zeros((5,5))\n",
    "a = x + np.arange(5,10)\n",
    "print(a)"
   ]
  },
  {
   "cell_type": "markdown",
   "metadata": {},
   "source": [
    "#### 14. Create a random vector of size 12 and sort it"
   ]
  },
  {
   "cell_type": "code",
   "execution_count": 51,
   "metadata": {
    "collapsed": false
   },
   "outputs": [
    {
     "name": "stdout",
     "output_type": "stream",
     "text": [
      "[ 0.99906169  0.53984257  0.41098781  0.27227809  0.44318291  0.48217143\n",
      "  0.53022354  0.36999107  0.27474674  0.22812538  0.98988644  0.92541196]\n"
     ]
    },
    {
     "data": {
      "text/plain": [
       "array([ 0.22812538,  0.27227809,  0.27474674,  0.36999107,  0.41098781,\n",
       "        0.44318291,  0.48217143,  0.53022354,  0.53984257,  0.92541196,\n",
       "        0.98988644,  0.99906169])"
      ]
     },
     "execution_count": 51,
     "metadata": {},
     "output_type": "execute_result"
    }
   ],
   "source": [
    "x = np.random.random(12)\n",
    "print(x)\n",
    "np.sort(x)"
   ]
  },
  {
   "cell_type": "markdown",
   "metadata": {},
   "source": [
    "#### 15. Swap the first two rows of the following array"
   ]
  },
  {
   "cell_type": "code",
   "execution_count": 54,
   "metadata": {
    "collapsed": false
   },
   "outputs": [
    {
     "name": "stdout",
     "output_type": "stream",
     "text": [
      "[[ 0  1  2  3  4]\n",
      " [ 5  6  7  8  9]\n",
      " [10 11 12 13 14]\n",
      " [15 16 17 18 19]\n",
      " [20 21 22 23 24]]\n",
      "[[ 5  6  7  8  9]\n",
      " [ 0  1  2  3  4]\n",
      " [10 11 12 13 14]\n",
      " [15 16 17 18 19]\n",
      " [20 21 22 23 24]]\n"
     ]
    }
   ],
   "source": [
    "#Advanced Indexing\n",
    "A = np.arange(25).reshape(5,5)\n",
    "print(A)\n",
    "A[[0,1]] = A[[1,0]]\n",
    "print(A)"
   ]
  },
  {
   "cell_type": "code",
   "execution_count": null,
   "metadata": {
    "collapsed": true
   },
   "outputs": [],
   "source": []
  }
 ],
 "metadata": {
  "anaconda-cloud": {},
  "kernelspec": {
   "display_name": "Python 3",
   "language": "python",
   "name": "python3"
  },
  "language_info": {
   "codemirror_mode": {
    "name": "ipython",
    "version": 3
   },
   "file_extension": ".py",
   "mimetype": "text/x-python",
   "name": "python",
   "nbconvert_exporter": "python",
   "pygments_lexer": "ipython3",
   "version": "3.6.0"
  }
 },
 "nbformat": 4,
 "nbformat_minor": 0
}
