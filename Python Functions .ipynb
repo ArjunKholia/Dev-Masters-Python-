{
 "cells": [
  {
   "cell_type": "markdown",
   "metadata": {},
   "source": [
    "## Assignment 1\n",
    "We have two children, a and b, and the parameters aSmile and bSmile indicate if each is smiling. \n",
    "We are in trouble if they are both smiling or if neither of them is smiling. Return true if we are in trouble. \n",
    "\n",
    "This the function and what it should display:\n",
    "\n",
    "areWeInTrouble(True, True) -> True\n",
    "\n",
    "areWeInTrouble(False, False) -> True\n",
    "\n",
    "areWeInTrouble(True, False) -> False"
   ]
  },
  {
   "cell_type": "code",
   "execution_count": 6,
   "metadata": {
    "collapsed": false
   },
   "outputs": [
    {
     "name": "stdout",
     "output_type": "stream",
     "text": [
      "True\n",
      "True\n",
      "False\n"
     ]
    }
   ],
   "source": [
    "def areWeInTrouble(aSmile,bSmile):\n",
    "    # Input code here\n",
    "    return (aSmile & bSmile) or ((not aSmile) & (not bSmile))\n",
    "print(areWeInTrouble(True,True))\n",
    "print(areWeInTrouble(False,False))\n",
    "print(areWeInTrouble(True,False))\n"
   ]
  },
  {
   "cell_type": "markdown",
   "metadata": {},
   "source": [
    "## Assignment 2\n",
    "Given an int n, return the absolute value of the difference between n and 21,\n",
    "except return double the absolute value of the difference if n is over 21. \n",
    "\n",
    "This the function and what it should display:\n",
    "\n",
    "Diff21(23) -> 4\n",
    "\n",
    "Diff21(10) -> 11\n",
    "\n",
    "Diff21(21) -> 0\n"
   ]
  },
  {
   "cell_type": "code",
   "execution_count": 9,
   "metadata": {
    "collapsed": false
   },
   "outputs": [
    {
     "name": "stdout",
     "output_type": "stream",
     "text": [
      "4\n",
      "11\n",
      "0\n"
     ]
    }
   ],
   "source": [
    "def Diff21(n):\n",
    "    # Input code here\n",
    "    if n>21:\n",
    "        return abs(2*(n-21))\n",
    "    return abs(n-21)\n",
    "\n",
    "print(Diff21(23))\n",
    "print(Diff21(10))\n",
    "print(Diff21(21))"
   ]
  },
  {
   "cell_type": "markdown",
   "metadata": {},
   "source": [
    "## Assignment 3\n",
    "Given two integers, a and b, return True if one if them is 10 or if their sum is 10. \n",
    "\n",
    "This the function and what it should display:\n",
    "\n",
    "Makes10(9, 10) -> True\n",
    "\n",
    "Makes10(9, 9) -> False\n",
    "\n",
    "Makes10(1, 9) -> True\n"
   ]
  },
  {
   "cell_type": "code",
   "execution_count": 11,
   "metadata": {
    "collapsed": false
   },
   "outputs": [
    {
     "name": "stdout",
     "output_type": "stream",
     "text": [
      "True\n",
      "False\n",
      "True\n",
      "True\n"
     ]
    }
   ],
   "source": [
    "def Makes10(a, b):\n",
    "    # Input code here\n",
    "    return True if (a+b) == 10 or 10 in [a,b] else False\n",
    "\n",
    "print(Makes10(9, 10))\n",
    "print(Makes10(9, 9))\n",
    "print(Makes10(1, 9))\n",
    "print(Makes10(10, 1))"
   ]
  },
  {
   "cell_type": "markdown",
   "metadata": {},
   "source": [
    "## Assignment 4\n",
    "Given an int n, return true if it is within 10 of 100 or 200.\n",
    "Hint: Check out the python Math class for absolute value\n",
    "\n",
    "This the function and what it should display:\n",
    "\n",
    "NearHundred(103) -> True\n",
    "\n",
    "NearHundred(90) -> True\n",
    "\n",
    "NearHundred(89) -> False"
   ]
  },
  {
   "cell_type": "code",
   "execution_count": 12,
   "metadata": {
    "collapsed": false
   },
   "outputs": [
    {
     "name": "stdout",
     "output_type": "stream",
     "text": [
      "True\n",
      "True\n",
      "False\n"
     ]
    }
   ],
   "source": [
    "def NearHundred(n):\n",
    "    # input code here\n",
    "    return True if abs(100-n) <= 10 or abs(200-n) <= 10 else False\n",
    "\n",
    "print(NearHundred(109))\n",
    "print(NearHundred(90))\n",
    "print(NearHundred(89))"
   ]
  },
  {
   "cell_type": "markdown",
   "metadata": {},
   "source": [
    "## Assignment 5\n",
    "Given a string, return a new string where \"not \" has been added to the front.\n",
    "However, if the string already begins with \"not\", return the string unchanged.\n",
    "\n",
    "Hint: Look up how to use \"SubString\" in python\n",
    "\n",
    "This the function and what it should display:\n",
    "\n",
    "NotString(\"candy\") -> \"not candy\"\n",
    "\n",
    "NotString(\"x\") -> \"not x\"\n",
    "\n",
    "NotString(\"not bad\") -> \"not bad\"\n"
   ]
  },
  {
   "cell_type": "code",
   "execution_count": 16,
   "metadata": {
    "collapsed": false
   },
   "outputs": [
    {
     "name": "stdout",
     "output_type": "stream",
     "text": [
      "not candy\n",
      "not x\n",
      "not bad\n"
     ]
    }
   ],
   "source": [
    "def NotString(word):\n",
    "    # input code here\n",
    "    return word if 'not' in word.split(' ') else 'not ' + word\n",
    "print(NotString(\"candy\"))\n",
    "print(NotString(\"x\"))\n",
    "print(NotString(\"not bad\"))\n",
    "\n",
    "\n",
    "\n",
    "    \n"
   ]
  },
  {
   "cell_type": "markdown",
   "metadata": {},
   "source": [
    "## Assignment 6\n",
    "The parameter weekday is true if it is a weekday, and the parameter vacation is true if we are on vacation.\n",
    "We sleep in if it is not a weekday or we're on vacation. Return true if we sleep in. \n",
    "\n",
    "This the function and what it should display:\n",
    "\n",
    "sleepIn(False, False) -> True\n",
    "\n",
    "sleepIn(True, False) -> False\n",
    "\n",
    "sleepIn(False, True) -> True"
   ]
  },
  {
   "cell_type": "code",
   "execution_count": 17,
   "metadata": {
    "collapsed": false
   },
   "outputs": [
    {
     "name": "stdout",
     "output_type": "stream",
     "text": [
      "True\n",
      "False\n",
      "True\n"
     ]
    }
   ],
   "source": [
    "def sleepIn(isWeekday, isVacation):\n",
    "    # Input code here\n",
    "    return ((not isWeekday) or isVacation)\n",
    "\n",
    "print(sleepIn(False, False))\n",
    "print(sleepIn(True, False))\n",
    "print(sleepIn(False, True))"
   ]
  },
  {
   "cell_type": "markdown",
   "metadata": {},
   "source": [
    "## Assignment 7\n",
    "Given two int values, return their sum. However, if the two values are the same, then return double their sum. \n",
    "\n",
    "This the function and what it should display:\n",
    "\n",
    "SumDouble(1, 2) -> 3\n",
    "\n",
    "SumDouble(3, 2) -> 5\n",
    "\n",
    "SumDouble(2, 2) -> 8"
   ]
  },
  {
   "cell_type": "code",
   "execution_count": 18,
   "metadata": {
    "collapsed": false
   },
   "outputs": [
    {
     "name": "stdout",
     "output_type": "stream",
     "text": [
      "3\n",
      "5\n",
      "8\n"
     ]
    }
   ],
   "source": [
    "def SumDouble(num1,num2):\n",
    "    # Input code here\n",
    "    return (num1 + num2) if num1 != num2 else 4*num1\n",
    "        \n",
    "print(SumDouble(1,2))\n",
    "print(SumDouble(3,2))\n",
    "print(SumDouble(2,2))"
   ]
  },
  {
   "cell_type": "markdown",
   "metadata": {},
   "source": [
    "## Assignment 8\n",
    "Given an integer as input, can you round it to the next 5?\n",
    "\n",
    "Examples:\n",
    "\n",
    "input:    output:\n",
    "\n",
    "0    ->   0\n",
    "\n",
    "2    ->   5\n",
    "\n",
    "3    ->   5\n",
    "\n",
    "12   ->   15\n",
    "\n",
    "21   ->   25\n",
    "\n",
    "30   ->   30\n",
    "\n",
    "etc.\n",
    "\n",
    "Input may be any positive or negative integer (including 0). You can assume that all inputs are valid integers.\n"
   ]
  },
  {
   "cell_type": "code",
   "execution_count": 19,
   "metadata": {
    "collapsed": false
   },
   "outputs": [
    {
     "name": "stdout",
     "output_type": "stream",
     "text": [
      "0\n",
      "5\n",
      "5\n",
      "15\n",
      "25\n",
      "30\n",
      "50\n"
     ]
    }
   ],
   "source": [
    "def round_to_next5(n):\n",
    "    # Input code here\n",
    "    while n%5 != 0:\n",
    "        n+= 1\n",
    "    return n\n",
    "    \n",
    "print(round_to_next5(0))\n",
    "print(round_to_next5(2))\n",
    "print(round_to_next5(3))\n",
    "print(round_to_next5(12))\n",
    "print(round_to_next5(21))\n",
    "print(round_to_next5(30))\n",
    "print(round_to_next5(48))"
   ]
  },
  {
   "cell_type": "markdown",
   "metadata": {},
   "source": [
    "## Assignment 9\n",
    "Make a program that will take an int (x) and give you the summation of all numbers from 1 up to x included. \n",
    "If the given input is not an integer, return \"Error 404\".\n",
    "\n",
    "Hint: Your gonna use the isinstance() method within your function. \n"
   ]
  },
  {
   "cell_type": "code",
   "execution_count": 21,
   "metadata": {
    "collapsed": false
   },
   "outputs": [
    {
     "name": "stdout",
     "output_type": "stream",
     "text": [
      "3\n",
      "Error 404\n",
      "15\n"
     ]
    }
   ],
   "source": [
    "def summation(x):\n",
    "    # input code here\n",
    "    try:\n",
    "        isinstance(x,int)\n",
    "        return(sum([a for a in range(x+1)]))\n",
    "    except:\n",
    "        return('Error 404')\n",
    "    \n",
    "print(summation(2))\n",
    "print(summation(\"ten\"))\n",
    "print(summation(5))"
   ]
  },
  {
   "cell_type": "markdown",
   "metadata": {},
   "source": [
    "## Assignment 10\n",
    "Create a function is_divisible(n,x,y) that checks if a number n is divisible by two numbers x AND y\n",
    "\n",
    "Example:\n",
    "\n",
    "is_divisible(3,1,3)--> True because 3 is divisible by 1 and 3\n",
    "\n",
    "is_divisible(12,2,6)--> True because 12 is divisible by 2 and 6\n",
    "\n",
    "is_divisible(100,5,3)--> False because 100 is not divisible by 3\n",
    "\n",
    "is_divisible(12,7,5)--> False because 12 is neither divisible by 7 nor 5\n"
   ]
  },
  {
   "cell_type": "code",
   "execution_count": 22,
   "metadata": {
    "collapsed": false
   },
   "outputs": [
    {
     "name": "stdout",
     "output_type": "stream",
     "text": [
      "True\n",
      "True\n",
      "False\n",
      "False\n"
     ]
    }
   ],
   "source": [
    "def is_divisible(n,x,y):\n",
    "    # input code here\n",
    "    return ((n%x == 0) & (n%y ==0))\n",
    "    \n",
    "\n",
    "print(is_divisible(3,1,3))\n",
    "print(is_divisible(12,2,6))\n",
    "print(is_divisible(100,5,3))\n",
    "print(is_divisible(12,7,5))"
   ]
  },
  {
   "cell_type": "code",
   "execution_count": null,
   "metadata": {
    "collapsed": true
   },
   "outputs": [],
   "source": []
  }
 ],
 "metadata": {
  "kernelspec": {
   "display_name": "Python 3",
   "language": "python",
   "name": "python3"
  },
  "language_info": {
   "codemirror_mode": {
    "name": "ipython",
    "version": 3
   },
   "file_extension": ".py",
   "mimetype": "text/x-python",
   "name": "python",
   "nbconvert_exporter": "python",
   "pygments_lexer": "ipython3",
   "version": "3.6.0"
  }
 },
 "nbformat": 4,
 "nbformat_minor": 0
}
