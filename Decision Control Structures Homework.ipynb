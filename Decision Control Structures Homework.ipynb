{
 "cells": [
  {
   "cell_type": "markdown",
   "metadata": {},
   "source": [
    "### Even, Odd, or Nothing Special\n",
    "Write a program that prompts the user to enter two integers and then displat a message indicating whether both numbers are \n",
    "odd or even, otherwise display a message that says \"Nothing special!\". "
   ]
  },
  {
   "cell_type": "code",
   "execution_count": 7,
   "metadata": {
    "collapsed": false
   },
   "outputs": [
    {
     "name": "stdout",
     "output_type": "stream",
     "text": [
      "Enter 1st integer :4\n",
      "Enter 2nd integer :5\n",
      "Nothing special!\n"
     ]
    }
   ],
   "source": [
    "n1 = int(input(\"Enter 1st integer :\"))\n",
    "n2 = int(input(\"Enter 2nd integer :\"))\n",
    "\n",
    "if n1%2 == 0 and n2%2 == 0:\n",
    "    print(\"Both numbers are even\")\n",
    "elif n1%2 != 0 and n2%2 != 0:\n",
    "    print(\"Both numbers are odd\")\n",
    "else:\n",
    "    print(\"Nothing special!\")"
   ]
  },
  {
   "cell_type": "markdown",
   "metadata": {},
   "source": [
    "### Gallons & Liters\n",
    "Write a python program that displays the following:\n",
    "1. Convert gallons to liters\n",
    "2. Convert liters to gallons\n",
    "\n",
    "The program prompts the user to enter a choice (1 or 2) and a quantity. Then , it calculates and displays the required \n",
    "value. "
   ]
  },
  {
   "cell_type": "code",
   "execution_count": 13,
   "metadata": {
    "collapsed": false
   },
   "outputs": [
    {
     "name": "stdout",
     "output_type": "stream",
     "text": [
      "1: Gallons to liters\n",
      "2: Liters to gallons\n",
      "Please enter your choice: 1\n",
      "Please enter the quantity: 1\n",
      "1 Gallons equals 3.785 liters\n"
     ]
    }
   ],
   "source": [
    "# Hint 1 gallon = 3.785 liters\n",
    "\n",
    "coefficient = 3.785\n",
    "\n",
    "print(\"1: Gallons to liters\")\n",
    "print(\"2: Liters to gallons\")\n",
    "choice = int(input(\"Please enter your choice: \"))\n",
    "quantity = int(input(\"Please enter the quantity: \"))\n",
    "\n",
    "if choice == 1:\n",
    "    result = quantity*coefficient\n",
    "    print(\"{} Gallons equals {} liters\".format(quantity,result))\n",
    "elif choice == 2:\n",
    "    result = quantity/coefficient\n",
    "    print(\"{} Liters equals {} gallons\".format(quantity,result))\n",
    "else:\n",
    "    print(\"Choose 1 or 2!!\")"
   ]
  },
  {
   "cell_type": "markdown",
   "metadata": {},
   "source": [
    "### The Most Scientific Calculator \n",
    "Write a program that prompts the user to enter a number, the type of operation (+, -, *, /), and a second number. The\n",
    "program should execute the required operation and display. \n",
    "Also display this error, \"Error: Divinsion by zero\", if second number == 0."
   ]
  },
  {
   "cell_type": "code",
   "execution_count": 17,
   "metadata": {
    "collapsed": false
   },
   "outputs": [
    {
     "name": "stdout",
     "output_type": "stream",
     "text": [
      "Please enter 1st number: 6\n",
      "Enter type of operation: /\n",
      "Please enter a 2nd number: 3\n",
      "2.0\n"
     ]
    }
   ],
   "source": [
    "num1 = float(input(\"Please enter 1st number: \"))\n",
    "op = input(\"Enter type of operation: \")\n",
    "num2 = float(input(\"Please enter a 2nd number: \"))\n",
    "\n",
    "if op == '+':\n",
    "    print(num1 + num2)\n",
    "elif op == '*':\n",
    "    print(num1*num2)\n",
    "elif op == '-':\n",
    "    print(abs(num1-num2))\n",
    "elif op == '/':\n",
    "    if num2 == 0:\n",
    "        print(\"Error: Divinsion by zero\")\n",
    "    else: \n",
    "        print(num1/num2)\n"
   ]
  },
  {
   "cell_type": "markdown",
   "metadata": {},
   "source": [
    "### Maximum and Minimum\n",
    "Write a Python program in which you prompt the user to enter the weight of four men and have the program calculate and display the minimum and maximum weight of the four men."
   ]
  },
  {
   "cell_type": "code",
   "execution_count": 19,
   "metadata": {
    "collapsed": false
   },
   "outputs": [
    {
     "name": "stdout",
     "output_type": "stream",
     "text": [
      "Enter the weight of four men: \n",
      "Weight 1:523.525\n",
      "Weight 2:523.632\n",
      "Weight 3:31.616\n",
      "Weight 4:336.51\n",
      "Maximum weight is :  523.632\n",
      "Minimum weight is :  31.616\n"
     ]
    }
   ],
   "source": [
    "# Hint use the min() & max() function\n",
    "\n",
    "print(\"Enter the weight of four men: \")\n",
    "\n",
    "\n",
    "\n",
    "w1 = float(input(\"Weight 1:\"))\n",
    "w2 = float(input(\"Weight 2:\"))\n",
    "w3 = float(input(\"Weight 3:\"))\n",
    "w4 = float(input(\"Weight 4:\"))\n",
    "\n",
    "print(\"Maximum weight is : \",max([w1,w2,w3,w4]))\n",
    "print(\"Minimum weight is : \",min([w1,w2,w3,w4]))"
   ]
  },
  {
   "cell_type": "markdown",
   "metadata": {},
   "source": [
    "### Discount\n",
    "Write a program that calculates the discount that customers receive based on the dollar amount of their order.\n",
    "If the total amount ordered is less than thirty dollars, no discount is given. If the total amount is equal to or greater than thirty dollars and less than seventy dollars, a discount of 5\\% is given. If the total amount is equal to or greater than seventy dollars and less than \\$ 150, a discount of 10\\% is given. If the total amount is $150 or more, the customer receives a discount of 20%.\n"
   ]
  },
  {
   "cell_type": "markdown",
   "metadata": {},
   "source": [
    "<style type=\"text/css\">\n",
    ".tg  {border-collapse:collapse;border-spacing:0;}\n",
    ".tg td{font-family:Arial, sans-serif;font-size:10px;padding:10px 5px;border-style:solid;border-width:1px;overflow:hidden;word-break:normal;}\n",
    ".tg th{font-family:Arial, sans-serif;font-size:10px;font-weight:normal;padding:10px 5px;border-style:solid;border-width:1px;overflow:hidden;word-break:normal;}\n",
    "</style>\n",
    "<table class=\"tg\">\n",
    "  <tr>\n",
    "    <th class=\"tg-031e\">Range</th>\n",
    "    <th class=\"tg-031e\">Discount</th>\n",
    "  </tr>\n",
    "  <tr>\n",
    "    <td class=\"tg-031e\">amount &lt; &#36;30</td>\n",
    "    <td class=\"tg-031e\">0&#37;</td>\n",
    "  </tr>\n",
    "  <tr>\n",
    "    <td class=\"tg-031e\">&#36;30 &lt; &#61; amount &lt; &#36;70</td>\n",
    "    <td class=\"tg-031e\">5&#37;</td>\n",
    "  </tr>\n",
    "  <tr>\n",
    "    <td class=\"tg-031e\">&#36;70 &lt; &#61; amount &lt; &#36;150</td>\n",
    "    <td class=\"tg-031e\">10&#37;</td>\n",
    "  </tr>\n",
    "  <tr>\n",
    "    <td class=\"tg-031e\">&#36;150 &lt; &#61; amount</td>\n",
    "    <td class=\"tg-031e\">20&#37;</td>\n",
    "  </tr>\n",
    "</table>"
   ]
  },
  {
   "cell_type": "code",
   "execution_count": 24,
   "metadata": {
    "collapsed": false
   },
   "outputs": [
    {
     "name": "stdout",
     "output_type": "stream",
     "text": [
      "Please enter the amount you want to spend : 200\n",
      "You got a discount of 20%\n",
      "You must pay $160.0\n"
     ]
    }
   ],
   "source": [
    "# code solution here\n",
    "amount = float(input(\"Please enter the amount you want to spend : \"))\n",
    "\n",
    "if amount < 30:\n",
    "    discount = 0\n",
    "elif amount < 70:\n",
    "    discount = 5\n",
    "elif amount < 150:\n",
    "    discount = 10\n",
    "else:\n",
    "    discount = 20\n",
    "\n",
    "payment = amount*(100 - discount)/100\n",
    "print(\"You got a discount of {}%\".format(discount))\n",
    "print(\"You must pay ${}\".format(payment))"
   ]
  },
  {
   "cell_type": "markdown",
   "metadata": {},
   "source": [
    "### Sending a Parcel\n",
    "Write a program that prompts the user to enter the weight of a parcel and its destination (I: inside the country,\n",
    "O: outside the country) and then calculates and displays the shipping cost.\n",
    "\n",
    "<style type=\"text/css\">\n",
    ".tg  {border-collapse:collapse;border-spacing:0;}\n",
    ".tg td{font-family:Arial, sans-serif;font-size:14px;padding:10px 5px;border-style:solid;border-width:1px;overflow:hidden;word-break:normal;}\n",
    ".tg th{font-family:Arial, sans-serif;font-size:14px;font-weight:normal;padding:10px 5px;border-style:solid;border-width:1px;overflow:hidden;word-break:normal;}\n",
    "</style>\n",
    "<table class=\"tg\">\n",
    "  <tr>\n",
    "    <th class=\"tg-031e\">Parcel's Weight<br>(in lb)</th>\n",
    "    <th class=\"tg-031e\">Destination Inside <br>the Country<br>(in USD per lb)</th>\n",
    "    <th class=\"tg-031e\">Destination Outside<br>the Country<br>(in USD)</th>\n",
    "  </tr>\n",
    "  <tr>\n",
    "    <td class=\"tg-031e\">weight &lt; 1</td>\n",
    "    <td class=\"tg-031e\">&#36;0.010</td>\n",
    "    <td class=\"tg-031e\">&#36;10</td>\n",
    "  </tr>\n",
    "  <tr>\n",
    "    <td class=\"tg-031e\">1 &lt;&#61; weight &lt; 2</td>\n",
    "    <td class=\"tg-031e\">&#36;0.013</td>\n",
    "    <td class=\"tg-031e\">&#36;20</td>\n",
    "  </tr>\n",
    "  <tr>\n",
    "    <td class=\"tg-031e\">2 &lt;&#61; weight &lt; 4</td>\n",
    "    <td class=\"tg-031e\">&#36;0.015</td>\n",
    "    <td class=\"tg-031e\">&#36;50</td>\n",
    "  </tr>\n",
    "  <tr>\n",
    "    <td class=\"tg-031e\">4 &lt;&#61; weight</td>\n",
    "    <td class=\"tg-031e\">&#36;0.020</td>\n",
    "    <td class=\"tg-031e\">&#36;60</td>\n",
    "  </tr>\n",
    "</table>"
   ]
  },
  {
   "cell_type": "code",
   "execution_count": 30,
   "metadata": {
    "collapsed": false
   },
   "outputs": [
    {
     "name": "stdout",
     "output_type": "stream",
     "text": [
      "Enter Weight and destination\n",
      "Weight: 1000\n",
      "<I> for inside the country and <O> for outside the country: o\n",
      "Shipping cost: $60\n"
     ]
    }
   ],
   "source": [
    "print(\"Enter Weight and destination\")\n",
    "weight = float(input(\"Weight: \"))\n",
    "dest = str(input(\"<I> for inside the country and <O> for outside the country: \"))\n",
    "\n",
    "if dest.upper() == \"I\":\n",
    "    if weight < 1:\n",
    "        cost = 0.010*weight\n",
    "    elif weight < 2:\n",
    "        cost = 0.013*weight\n",
    "    elif weight < 4:\n",
    "        cost = 0.015*weight\n",
    "    else:\n",
    "        cost = 0.020*weight\n",
    "else:\n",
    "    if weight < 1:\n",
    "        cost = 10\n",
    "    elif weight < 2:\n",
    "        cost = 20\n",
    "    elif weight < 4:\n",
    "        cost = 50\n",
    "    else:\n",
    "        cost = 60\n",
    "        \n",
    "print(\"Shipping cost: ${}\".format(cost))"
   ]
  },
  {
   "cell_type": "markdown",
   "metadata": {},
   "source": [
    "### Finding a Leap Year\n",
    "Write a Python program that prompts the user to enter a year and then displays a message indicating whether or not it is leap\n",
    "year. Moreover, if the user enters non-numeric characters, an error message should appear.\n",
    "\n",
    "Hint: \n",
    "A year is a leap year when at least one of the following conditions is met:\n",
    "1. The year is exactly divisible by 4 and not by 100.\n",
    "2. The year is exactly divisible by 400.\n"
   ]
  },
  {
   "cell_type": "code",
   "execution_count": 1,
   "metadata": {
    "collapsed": false
   },
   "outputs": [
    {
     "name": "stdout",
     "output_type": "stream",
     "text": [
      "Enter a year : 124\n",
      "Its a Leap Year\n"
     ]
    }
   ],
   "source": [
    "# Hint: Your gonna use the modulus<%>, try & except, and the isinstance() in this code.\n",
    "# Do some research as o why I'm using isinstace() than type()\n",
    "\n",
    "# code solution here:\n",
    "\n",
    "\n",
    "inp = (input(\"Enter a year : \"))\n",
    "if isinstance(inp, int):\n",
    "    y = int(inp)\n",
    "    if y%4 == 0  and y%100 != 0:\n",
    "        print(\"Its a Leap Year\")\n",
    "    elif y%400 == 0:\n",
    "        print(\"Its a Leap Year\")\n",
    "    else:\n",
    "        print(\"Its Not a Leap Year\")\n",
    "else:\n",
    "    try:\n",
    "        int(inp)\n",
    "        y = int(inp)\n",
    "        if y%4 == 0  and y%100 != 0:\n",
    "            print(\"Its a Leap Year\")\n",
    "        elif y%400 == 0:\n",
    "            print(\"Its a Leap Year\")\n",
    "        else:\n",
    "            print(\"Its Not a Leap Year\")\n",
    "    except:\n",
    "        print(\"Need year in integers!\")\n",
    "\n",
    "#P.S. : Need a lot of Test Cases to check if the program works            "
   ]
  },
  {
   "cell_type": "markdown",
   "metadata": {},
   "source": [
    "### Displaying the Days of the Month\n",
    "Write a program that prompts the user to enter a month and a year and then displays how many days are in that month.\n",
    "The program needs to take into consideration the leap years. In case of a leap year, February has 29 instead of\n",
    "28 days."
   ]
  },
  {
   "cell_type": "code",
   "execution_count": 6,
   "metadata": {
    "collapsed": false
   },
   "outputs": [
    {
     "name": "stdout",
     "output_type": "stream",
     "text": [
      "Enter month 1 - 12: 12\n",
      "Enter year: 2016\n",
      "This month has 31 days.\n"
     ]
    }
   ],
   "source": [
    "def leap_year(inp):\n",
    "    if isinstance(inp, int):\n",
    "        y = int(inp)\n",
    "        if y%4 == 0  and y%100 != 0:\n",
    "            return True\n",
    "        elif y%400 == 0:\n",
    "            return True\n",
    "        else:\n",
    "            return False\n",
    "    else:\n",
    "        try:\n",
    "            int(inp)\n",
    "            y = int(inp)\n",
    "            if y%4 == 0  and y%100 != 0:\n",
    "                return True\n",
    "            elif y%400 == 0:\n",
    "                return True\n",
    "            else:\n",
    "                return False\n",
    "        except:\n",
    "            print(\"Need year in integers!\")\n",
    "        \n",
    "        \n",
    "###################################################################################################\n",
    "\n",
    "\n",
    "m = int(input(\"Enter month 1 - 12: \"))\n",
    "y = int(input(\"Enter year: \"))\n",
    "\n",
    "if m==2:\n",
    "    if leap_year(y):\n",
    "        print(\"This month has 29 days.\")\n",
    "    else:\n",
    "        print(\"This month has 28 days\")\n",
    "elif m in [4,6,9,11]:\n",
    "    print(\"This month has 30 days\")\n",
    "else:\n",
    "    print(\"This month has 31 days.\")"
   ]
  },
  {
   "cell_type": "code",
   "execution_count": null,
   "metadata": {
    "collapsed": true
   },
   "outputs": [],
   "source": []
  }
 ],
 "metadata": {
  "kernelspec": {
   "display_name": "Python 3",
   "language": "python",
   "name": "python3"
  },
  "language_info": {
   "codemirror_mode": {
    "name": "ipython",
    "version": 3
   },
   "file_extension": ".py",
   "mimetype": "text/x-python",
   "name": "python",
   "nbconvert_exporter": "python",
   "pygments_lexer": "ipython3",
   "version": "3.6.0"
  }
 },
 "nbformat": 4,
 "nbformat_minor": 0
}
