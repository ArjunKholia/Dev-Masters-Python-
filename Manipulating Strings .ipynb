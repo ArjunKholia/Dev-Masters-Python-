{
 "cells": [
  {
   "cell_type": "markdown",
   "metadata": {
    "deletable": true,
    "editable": true
   },
   "source": [
    "# Manipulating Strings"
   ]
  },
  {
   "cell_type": "markdown",
   "metadata": {
    "deletable": true,
    "editable": true
   },
   "source": [
    "Python numerates characters assuming that the first one is at position 0 and so on. Even the space is considered a character as well.\n",
    "\n",
    "| 0 | 1 | 2 | 3 | 4 | 5 | 6 | 7 | 8 | 9 | 10 |\n",
    "|---|---|---|---|---|---|---|---|---|---|----|\n",
    "| H | e | l | l | o |   | W | o | r | l | d  |  \n",
    "\n",
    "| -11 | -10 | -9 | -8 | -7 | -6 | -5 | -4 | -3 | -2 | -1 |\n",
    "|-----|-----|----|----|----|----|----|----|----|----|----|\n",
    "| H   | e   | l  | l  | o  |    | W  | o  | r  | l  | d  |\n",
    "\n",
    "Python allow you to retrieve the individual characters of a string using substring notation. You can index 0 to access the first character and so on. You can also use negative indexing to access characters too.\n"
   ]
  },
  {
   "cell_type": "code",
   "execution_count": 2,
   "metadata": {
    "collapsed": false,
    "deletable": true,
    "editable": true
   },
   "outputs": [
    {
     "name": "stdout",
     "output_type": "stream",
     "text": [
      "d\n",
      "r\n"
     ]
    }
   ],
   "source": [
    "# example 1\n",
    "\n",
    "a = \"Hello World\"\n",
    "\n",
    "print(a[-1])  # it displays the last letter\n",
    "print(a[-3]) # it displays the letter f"
   ]
  },
  {
   "cell_type": "markdown",
   "metadata": {
    "deletable": true,
    "editable": true
   },
   "source": [
    "Another way of extracting single characters from strings in Python is to unpack them into indivdual variables as shown here."
   ]
  },
  {
   "cell_type": "code",
   "execution_count": 3,
   "metadata": {
    "collapsed": false,
    "deletable": true,
    "editable": true
   },
   "outputs": [
    {
     "name": "stdout",
     "output_type": "stream",
     "text": [
      "Z\n",
      "e\n",
      "u\n",
      "s\n"
     ]
    }
   ],
   "source": [
    "# example 2\n",
    "\n",
    "name = \"Zeus\"\n",
    "\n",
    "a, b, c, d = name\n",
    "\n",
    "print(a)  # it displays the letter Z\n",
    "print(b)  # it displays the letter e\n",
    "print(c)  # it displays the letter u\n",
    "print(d)  # it displays the letter s"
   ]
  },
  {
   "cell_type": "code",
   "execution_count": 13,
   "metadata": {
    "collapsed": false,
    "deletable": true,
    "editable": true
   },
   "outputs": [
    {
     "name": "stdout",
     "output_type": "stream",
     "text": [
      "Enter an three-digit integer: 15312472\n",
      "Sum of the digits for 15312472 is 25\n"
     ]
    }
   ],
   "source": [
    "# Write a Python program that prompts the user to enter a three-digit integer\n",
    "# and then calculates the sum of its digits\n",
    "\n",
    "number = int(input(\"Enter an three-digit integer: \"))\n",
    "\n",
    "\n",
    "# code solution here\n",
    "y = sum([int(i) for i in str(number)])\n",
    "print(\"Sum of the digits for\",number,\"is\",y)"
   ]
  },
  {
   "cell_type": "code",
   "execution_count": 14,
   "metadata": {
    "collapsed": false,
    "deletable": true,
    "editable": true
   },
   "outputs": [
    {
     "name": "stdout",
     "output_type": "stream",
     "text": [
      "or\n",
      "oWr\n",
      "orld\n",
      "Hel\n",
      "lo Wor\n",
      "or\n"
     ]
    }
   ],
   "source": [
    "# Retrieving a Portion From a String\n",
    "\n",
    "# If you wish to extract a portion of a string you can use the following formula: \n",
    "# subject[ <beginIndex> : <endIndex> : <step> ]\n",
    "\n",
    "# example\n",
    "\n",
    "a = \"Hello World\"\n",
    "\n",
    "print(a[7:9])  # it displays the letters o, and r\n",
    "\n",
    "print(a[4:10:2]) # step is set to 2. it displays the letters o, w, and r\n",
    "\n",
    "print(a[7:])  # it displays the  letters o, r, l and d\n",
    "\n",
    "print(a[:3])  # it displays the letters H, e, and l\n",
    "\n",
    "print(a[3:-2])  # it displays \"lo Wor\"\n",
    "\n",
    "print(a[-4:-2])  # it displays the letters o, and r"
   ]
  },
  {
   "cell_type": "code",
   "execution_count": 16,
   "metadata": {
    "collapsed": false,
    "deletable": true,
    "editable": true
   },
   "outputs": [
    {
     "name": "stdout",
     "output_type": "stream",
     "text": [
      "Enter the string : Xeno\n",
      "oneX\n"
     ]
    }
   ],
   "source": [
    "# Write a python program that prompts the user to enter any string with four letters \n",
    "# and then displays its contents backwards.\n",
    "# for example, if string entered is \"Xeno\", the program should display \"oneX\".\n",
    "\n",
    "# code solution here\n",
    "string = str(input(\"Enter the string : \"))\n",
    "print(string[::-1])"
   ]
  },
  {
   "cell_type": "code",
   "execution_count": 17,
   "metadata": {
    "collapsed": false,
    "deletable": true,
    "editable": true
   },
   "outputs": [
    {
     "name": "stdout",
     "output_type": "stream",
     "text": [
      "5\n"
     ]
    }
   ],
   "source": [
    "# Finding string postion\n",
    "\n",
    "# object.find(<search>)\n",
    "\n",
    "# This method finds the numeric position of the first occurence of search in object.\n",
    "\n",
    "# example\n",
    "\n",
    "a = \"I am newbie in Python. Python rocks!\"\n",
    "\n",
    "i = a.find(\"newbie\")\n",
    "\n",
    "print(i)"
   ]
  },
  {
   "cell_type": "code",
   "execution_count": 18,
   "metadata": {
    "collapsed": false,
    "deletable": true,
    "editable": true
   },
   "outputs": [
    {
     "name": "stdout",
     "output_type": "stream",
     "text": [
      "my name is john.\n",
      "MY NAME IS JOHN.\n"
     ]
    }
   ],
   "source": [
    "# Converting to lowercase or uppercase\n",
    "\n",
    "a = \"My NaMe iS JohN.\"\n",
    "\n",
    "x = a.lower()\n",
    "y = a.upper()\n",
    "\n",
    "print(x)\n",
    "print(y)"
   ]
  },
  {
   "cell_type": "code",
   "execution_count": 21,
   "metadata": {
    "collapsed": false,
    "deletable": true,
    "editable": true
   },
   "outputs": [
    {
     "name": "stdout",
     "output_type": "stream",
     "text": [
      "Enter your age: 12\n",
      "You will be 22 years old in 10 years from now!!\n"
     ]
    }
   ],
   "source": [
    "# Converting an integer to a \"string\"\n",
    "\n",
    "age = int(input(\"Enter your age: \"))\n",
    "\n",
    "new_age = age + 10 \n",
    "\n",
    "message = \"You will be {0} years old in 10 years from now!!\".format(str(new_age))\n",
    "\n",
    "print(message)"
   ]
  },
  {
   "cell_type": "code",
   "execution_count": 25,
   "metadata": {
    "collapsed": false,
    "deletable": true,
    "editable": true
   },
   "outputs": [
    {
     "name": "stdout",
     "output_type": "stream",
     "text": [
      "Enter your full name: a k\n",
      "k a\n"
     ]
    }
   ],
   "source": [
    "# Write a Python program that prompts the user to enter in one single string both first and last name.\n",
    "# In the end, the program should change the order of the two names.\n",
    "\n",
    "full_name = input(\"Enter your full name: \")\n",
    "\n",
    "# Find the position of space character. This is also the number of characters the first name contains\n",
    "# code solution here\n",
    "i = full_name.find(' ')\n",
    "\n",
    "# Get space_pos number of characters starting from position 0\n",
    "# code solution here\n",
    "first_name = full_name[0:i]\n",
    "# Get the rest of the characters starting from position space_pos + 1\n",
    "# code solution here\n",
    "last_name = full_name[i+1:]\n",
    "# code solution here\n",
    "print(last_name,first_name)"
   ]
  },
  {
   "cell_type": "code",
   "execution_count": 3,
   "metadata": {
    "collapsed": false,
    "deletable": true,
    "editable": true
   },
   "outputs": [
    {
     "name": "stdout",
     "output_type": "stream",
     "text": [
      "Enter your last name: kholia\n",
      "khol992\n"
     ]
    }
   ],
   "source": [
    "# Write a program that prompts the user to enter his or her last name \n",
    "# and then creates a login ID from the first four\n",
    "# letters of the name(in lowercase) and a three-digit random integer.\n",
    "\n",
    "# Hint: To create a random integer you can use the randrange() method. \n",
    "# Since you need a random integer of three digits.\n",
    "# The range must be between 100-999\n",
    "\n",
    "import random\n",
    "\n",
    "\n",
    "# code solution here\n",
    "last_name = str(input(\"Enter your last name: \"))\n",
    "\n",
    "\n",
    "\n",
    "# Get random integer between 100 and 999\n",
    "y = str(random.randrange(100,999))\n",
    "# code solution here\n",
    "print(last_name[0:4]+y)\n"
   ]
  },
  {
   "cell_type": "code",
   "execution_count": 5,
   "metadata": {
    "collapsed": false,
    "deletable": true,
    "editable": true
   },
   "outputs": [
    {
     "name": "stdout",
     "output_type": "stream",
     "text": [
      "Enter any integer : 1234\n",
      "4321\n"
     ]
    }
   ],
   "source": [
    "# Write a Python program that prompts the user to enter an integer and then reverses it. \n",
    "# For example, 375, will be displayed as 573\n",
    "\n",
    "# code solution here\n",
    "integer = int(input(\"Enter any integer : \"))\n",
    "print(int(str(integer)[::-1]))"
   ]
  },
  {
   "cell_type": "code",
   "execution_count": 25,
   "metadata": {
    "collapsed": false,
    "deletable": true,
    "editable": true
   },
   "outputs": [
    {
     "name": "stdout",
     "output_type": "stream",
     "text": [
      "Enter full name: dev masters\n",
      "\n",
      "\n",
      "name after join():devmasters, name after shuffle():esdavesmrt\n",
      "\n",
      "\n",
      "This is your ID: esda9553\n"
     ]
    }
   ],
   "source": [
    "# Write a Python program that prompts the user to enter his or her full name (i.e James Harden)\n",
    "# Then creates a secret password consisting of three random letters (in lowercase) from full name and\n",
    "# a random four-digit number.\n",
    "\n",
    "# For example, the user enters \"Vassilis Bouras\", a secrect password can probable be..\n",
    "# \"sar1359\" or \"vbs7281\".\n",
    "\n",
    "# Hint: You'll need to the shuffle() and join() methods. \n",
    "\n",
    "import random\n",
    "\n",
    "full_name = str(input(\"Enter full name: \"))\n",
    "\n",
    "# code solution here\n",
    "\n",
    "full_name_list = full_name.lower().split(' ')\n",
    "joined_name = ''.join(full_name_list)\n",
    "\n",
    "joined_name_list = list(joined_name)\n",
    "random.shuffle(joined_name_list)\n",
    "joined_reshuffled = ''.join(joined_name_list)\n",
    "\n",
    "random_number = random.randrange(1000,9999)\n",
    "result = joined_reshuffled[0:4] + str(random_number)\n",
    "\n",
    "print(\"\\n\")\n",
    "print(\"name after join():{0}, name after shuffle():{1}\".format(joined_name,joined_reshuffled))\n",
    "print(\"\\n\")\n",
    "print(\"This is your ID: {0}\".format(result))\n"
   ]
  },
  {
   "cell_type": "code",
   "execution_count": null,
   "metadata": {
    "collapsed": true,
    "deletable": true,
    "editable": true
   },
   "outputs": [],
   "source": []
  }
 ],
 "metadata": {
  "kernelspec": {
   "display_name": "Python 3",
   "language": "python",
   "name": "python3"
  },
  "language_info": {
   "codemirror_mode": {
    "name": "ipython",
    "version": 3
   },
   "file_extension": ".py",
   "mimetype": "text/x-python",
   "name": "python",
   "nbconvert_exporter": "python",
   "pygments_lexer": "ipython3",
   "version": "3.6.0"
  }
 },
 "nbformat": 4,
 "nbformat_minor": 0
}
